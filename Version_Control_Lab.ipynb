{
 "cells": [
  {
   "cell_type": "markdown",
   "metadata": {},
   "source": [
    "Version Control Lab\n",
    "This Program will get user input for two integers and add them together and finally print the result"
   ]
  },
  {
   "cell_type": "code",
   "execution_count": null,
   "metadata": {},
   "outputs": [],
   "source": [
    "# Get Second Int\n",
    "num1 = int(input(\"Enter the first integer: \"))\n",
    "\n",
    "# Get First Int\n",
    "num2 = int(input(\"Enter the second integer: \"))\n",
    "\n",
    "# Add\n",
    "sum = num1 + num2\n",
    "\n",
    "#print\n",
    "print(\"The sum of\", num1, \"and\", num2, \"is:\", sum)"
   ]
  }
 ],
 "metadata": {
  "kernelspec": {
   "display_name": "Python 3",
   "language": "python",
   "name": "python3"
  },
  "language_info": {
   "codemirror_mode": {
    "name": "ipython",
    "version": 3
   },
   "file_extension": ".py",
   "mimetype": "text/x-python",
   "name": "python",
   "nbconvert_exporter": "python",
   "pygments_lexer": "ipython3",
   "version": "3.8.3"
  }
 },
 "nbformat": 4,
 "nbformat_minor": 4
}
